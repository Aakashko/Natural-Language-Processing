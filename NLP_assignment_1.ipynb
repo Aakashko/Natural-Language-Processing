{
  "nbformat": 4,
  "nbformat_minor": 0,
  "metadata": {
    "colab": {
      "name": "NLP_assignment_1",
      "provenance": []
    },
    "kernelspec": {
      "name": "python3",
      "display_name": "Python 3"
    }
  },
  "cells": [
    {
      "cell_type": "code",
      "metadata": {
        "id": "qvdAPACRTqgq",
        "colab_type": "code",
        "colab": {
          "base_uri": "https://localhost:8080/",
          "height": 70
        },
        "outputId": "1932f38c-795f-49c9-b561-63cafc8a9fb0"
      },
      "source": [
        "import nltk\n",
        "nltk.download('punkt')"
      ],
      "execution_count": 5,
      "outputs": [
        {
          "output_type": "stream",
          "text": [
            "[nltk_data] Downloading package punkt to /root/nltk_data...\n",
            "[nltk_data]   Unzipping tokenizers/punkt.zip.\n"
          ],
          "name": "stdout"
        },
        {
          "output_type": "execute_result",
          "data": {
            "text/plain": [
              "True"
            ]
          },
          "metadata": {
            "tags": []
          },
          "execution_count": 5
        }
      ]
    },
    {
      "cell_type": "code",
      "metadata": {
        "id": "sSGlkgCa3S83",
        "colab_type": "code",
        "colab": {
          "base_uri": "https://localhost:8080/",
          "height": 1000
        },
        "outputId": "d2985acf-67bb-42ca-a9bc-40b9127da36d"
      },
      "source": [
        "pip install translate"
      ],
      "execution_count": 1,
      "outputs": [
        {
          "output_type": "stream",
          "text": [
            "Collecting translate\n",
            "  Downloading https://files.pythonhosted.org/packages/85/b2/2ea329a07bbc0c7227eef84ca89ffd6895e7ec237d6c0b26574d56103e53/translate-3.5.0-py2.py3-none-any.whl\n",
            "Requirement already satisfied: lxml in /usr/local/lib/python3.6/dist-packages (from translate) (4.2.6)\n",
            "Collecting pre-commit\n",
            "\u001b[?25l  Downloading https://files.pythonhosted.org/packages/04/f0/84f3ac2978fa32096585a8ad3c695e7555a28e60e71064d8648f1adb2f92/pre_commit-2.6.0-py2.py3-none-any.whl (171kB)\n",
            "\r\u001b[K     |██                              | 10kB 18.1MB/s eta 0:00:01\r\u001b[K     |███▉                            | 20kB 18.6MB/s eta 0:00:01\r\u001b[K     |█████▊                          | 30kB 11.1MB/s eta 0:00:01\r\u001b[K     |███████▋                        | 40kB 10.3MB/s eta 0:00:01\r\u001b[K     |█████████▋                      | 51kB 10.3MB/s eta 0:00:01\r\u001b[K     |███████████▌                    | 61kB 9.5MB/s eta 0:00:01\r\u001b[K     |█████████████▍                  | 71kB 8.9MB/s eta 0:00:01\r\u001b[K     |███████████████▎                | 81kB 8.3MB/s eta 0:00:01\r\u001b[K     |█████████████████▏              | 92kB 8.8MB/s eta 0:00:01\r\u001b[K     |███████████████████▏            | 102kB 8.5MB/s eta 0:00:01\r\u001b[K     |█████████████████████           | 112kB 8.5MB/s eta 0:00:01\r\u001b[K     |███████████████████████         | 122kB 8.5MB/s eta 0:00:01\r\u001b[K     |████████████████████████▉       | 133kB 8.5MB/s eta 0:00:01\r\u001b[K     |██████████████████████████▊     | 143kB 8.5MB/s eta 0:00:01\r\u001b[K     |████████████████████████████▊   | 153kB 8.5MB/s eta 0:00:01\r\u001b[K     |██████████████████████████████▋ | 163kB 8.5MB/s eta 0:00:01\r\u001b[K     |████████████████████████████████| 174kB 8.5MB/s \n",
            "\u001b[?25hRequirement already satisfied: requests in /usr/local/lib/python3.6/dist-packages (from translate) (2.23.0)\n",
            "Requirement already satisfied: click in /usr/local/lib/python3.6/dist-packages (from translate) (7.1.2)\n",
            "Collecting tox\n",
            "\u001b[?25l  Downloading https://files.pythonhosted.org/packages/a4/eb/09b02408f46cd18cc8345849dbf42a7d823ebe1cc8522517dc7b1a924ce5/tox-3.19.0-py2.py3-none-any.whl (83kB)\n",
            "\r\u001b[K     |████                            | 10kB 23.7MB/s eta 0:00:01\r\u001b[K     |███████▉                        | 20kB 31.6MB/s eta 0:00:01\r\u001b[K     |███████████▉                    | 30kB 36.8MB/s eta 0:00:01\r\u001b[K     |███████████████▊                | 40kB 31.8MB/s eta 0:00:01\r\u001b[K     |███████████████████▋            | 51kB 22.7MB/s eta 0:00:01\r\u001b[K     |███████████████████████▋        | 61kB 20.6MB/s eta 0:00:01\r\u001b[K     |███████████████████████████▌    | 71kB 20.2MB/s eta 0:00:01\r\u001b[K     |███████████████████████████████▌| 81kB 16.3MB/s eta 0:00:01\r\u001b[K     |████████████████████████████████| 92kB 6.2MB/s \n",
            "\u001b[?25hRequirement already satisfied: toml in /usr/local/lib/python3.6/dist-packages (from pre-commit->translate) (0.10.1)\n",
            "Requirement already satisfied: importlib-metadata; python_version < \"3.8\" in /usr/local/lib/python3.6/dist-packages (from pre-commit->translate) (1.7.0)\n",
            "Collecting virtualenv>=20.0.8\n",
            "\u001b[?25l  Downloading https://files.pythonhosted.org/packages/12/51/36c685ff2c1b2f7b4b5db29f3153159102ae0e0adaff3a26fd1448232e06/virtualenv-20.0.31-py2.py3-none-any.whl (4.9MB)\n",
            "\u001b[K     |████████████████████████████████| 4.9MB 109kB/s \n",
            "\u001b[?25hCollecting identify>=1.0.0\n",
            "\u001b[?25l  Downloading https://files.pythonhosted.org/packages/0b/cc/0a5c24b9ee699c2335ab7406286a89279743629d40c0d62da2c0937d1a52/identify-1.4.28-py2.py3-none-any.whl (97kB)\n",
            "\u001b[K     |████████████████████████████████| 102kB 9.3MB/s \n",
            "\u001b[?25hCollecting pyyaml>=5.1\n",
            "\u001b[?25l  Downloading https://files.pythonhosted.org/packages/64/c2/b80047c7ac2478f9501676c988a5411ed5572f35d1beff9cae07d321512c/PyYAML-5.3.1.tar.gz (269kB)\n",
            "\u001b[K     |████████████████████████████████| 276kB 57.2MB/s \n",
            "\u001b[?25hCollecting importlib-resources; python_version < \"3.7\"\n",
            "  Downloading https://files.pythonhosted.org/packages/ba/03/0f9595c0c2ef12590877f3c47e5f579759ce5caf817f8256d5dcbd8a1177/importlib_resources-3.0.0-py2.py3-none-any.whl\n",
            "Collecting nodeenv>=0.11.1\n",
            "  Downloading https://files.pythonhosted.org/packages/0d/54/538edbe88c87f6cd71f009145a56264622de84508f6ad1ae4d76976f47be/nodeenv-1.4.0-py2.py3-none-any.whl\n",
            "Collecting cfgv>=2.0.0\n",
            "  Downloading https://files.pythonhosted.org/packages/45/cd/3878c9248e59e5e2ebd0dc741ab984b18d86e7283ae9b127b05fc287d239/cfgv-3.2.0-py2.py3-none-any.whl\n",
            "Requirement already satisfied: chardet<4,>=3.0.2 in /usr/local/lib/python3.6/dist-packages (from requests->translate) (3.0.4)\n",
            "Requirement already satisfied: urllib3!=1.25.0,!=1.25.1,<1.26,>=1.21.1 in /usr/local/lib/python3.6/dist-packages (from requests->translate) (1.24.3)\n",
            "Requirement already satisfied: idna<3,>=2.5 in /usr/local/lib/python3.6/dist-packages (from requests->translate) (2.10)\n",
            "Requirement already satisfied: certifi>=2017.4.17 in /usr/local/lib/python3.6/dist-packages (from requests->translate) (2020.6.20)\n",
            "Requirement already satisfied: six>=1.14.0 in /usr/local/lib/python3.6/dist-packages (from tox->translate) (1.15.0)\n",
            "Collecting pluggy>=0.12.0\n",
            "  Downloading https://files.pythonhosted.org/packages/a0/28/85c7aa31b80d150b772fbe4a229487bc6644da9ccb7e427dd8cc60cb8a62/pluggy-0.13.1-py2.py3-none-any.whl\n",
            "Requirement already satisfied: filelock>=3.0.0 in /usr/local/lib/python3.6/dist-packages (from tox->translate) (3.0.12)\n",
            "Requirement already satisfied: packaging>=14 in /usr/local/lib/python3.6/dist-packages (from tox->translate) (20.4)\n",
            "Requirement already satisfied: py>=1.4.17 in /usr/local/lib/python3.6/dist-packages (from tox->translate) (1.9.0)\n",
            "Requirement already satisfied: zipp>=0.5 in /usr/local/lib/python3.6/dist-packages (from importlib-metadata; python_version < \"3.8\"->pre-commit->translate) (3.1.0)\n",
            "Collecting appdirs<2,>=1.4.3\n",
            "  Downloading https://files.pythonhosted.org/packages/3b/00/2344469e2084fb287c2e0b57b72910309874c3245463acd6cf5e3db69324/appdirs-1.4.4-py2.py3-none-any.whl\n",
            "Collecting distlib<1,>=0.3.1\n",
            "\u001b[?25l  Downloading https://files.pythonhosted.org/packages/f5/0a/490fa011d699bb5a5f3a0cf57de82237f52a6db9d40f33c53b2736c9a1f9/distlib-0.3.1-py2.py3-none-any.whl (335kB)\n",
            "\u001b[K     |████████████████████████████████| 337kB 55.4MB/s \n",
            "\u001b[?25hRequirement already satisfied: pyparsing>=2.0.2 in /usr/local/lib/python3.6/dist-packages (from packaging>=14->tox->translate) (2.4.7)\n",
            "Building wheels for collected packages: pyyaml\n",
            "  Building wheel for pyyaml (setup.py) ... \u001b[?25l\u001b[?25hdone\n",
            "  Created wheel for pyyaml: filename=PyYAML-5.3.1-cp36-cp36m-linux_x86_64.whl size=44621 sha256=8a02527b44a118a7bc9437d164a7dc969b2bf496c23889e41a8f0cb9accd15bc\n",
            "  Stored in directory: /root/.cache/pip/wheels/a7/c1/ea/cf5bd31012e735dc1dfea3131a2d5eae7978b251083d6247bd\n",
            "Successfully built pyyaml\n",
            "\u001b[31mERROR: pytest 3.6.4 has requirement pluggy<0.8,>=0.5, but you'll have pluggy 0.13.1 which is incompatible.\u001b[0m\n",
            "\u001b[31mERROR: datascience 0.10.6 has requirement folium==0.2.1, but you'll have folium 0.8.3 which is incompatible.\u001b[0m\n",
            "Installing collected packages: appdirs, importlib-resources, distlib, virtualenv, identify, pyyaml, nodeenv, cfgv, pre-commit, pluggy, tox, translate\n",
            "  Found existing installation: PyYAML 3.13\n",
            "    Uninstalling PyYAML-3.13:\n",
            "      Successfully uninstalled PyYAML-3.13\n",
            "  Found existing installation: pluggy 0.7.1\n",
            "    Uninstalling pluggy-0.7.1:\n",
            "      Successfully uninstalled pluggy-0.7.1\n",
            "Successfully installed appdirs-1.4.4 cfgv-3.2.0 distlib-0.3.1 identify-1.4.28 importlib-resources-3.0.0 nodeenv-1.4.0 pluggy-0.13.1 pre-commit-2.6.0 pyyaml-5.3.1 tox-3.19.0 translate-3.5.0 virtualenv-20.0.31\n"
          ],
          "name": "stdout"
        }
      ]
    },
    {
      "cell_type": "code",
      "metadata": {
        "id": "I6vSNqU8SDgf",
        "colab_type": "code",
        "colab": {
          "base_uri": "https://localhost:8080/",
          "height": 70
        },
        "outputId": "68021440-bdf4-4075-8963-6bc01abe6a6b"
      },
      "source": [
        "pip install textblob"
      ],
      "execution_count": 2,
      "outputs": [
        {
          "output_type": "stream",
          "text": [
            "Requirement already satisfied: textblob in /usr/local/lib/python3.6/dist-packages (0.15.3)\n",
            "Requirement already satisfied: nltk>=3.1 in /usr/local/lib/python3.6/dist-packages (from textblob) (3.2.5)\n",
            "Requirement already satisfied: six in /usr/local/lib/python3.6/dist-packages (from nltk>=3.1->textblob) (1.15.0)\n"
          ],
          "name": "stdout"
        }
      ]
    },
    {
      "cell_type": "code",
      "metadata": {
        "id": "xQwt3Ta6SZeT",
        "colab_type": "code",
        "colab": {
          "resources": {
            "http://localhost:8080/nbextensions/google.colab/files.js": {
              "data": "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",
              "ok": true,
              "headers": [
                [
                  "content-type",
                  "application/javascript"
                ]
              ],
              "status": 200,
              "status_text": ""
            }
          },
          "base_uri": "https://localhost:8080/",
          "height": 73
        },
        "outputId": "94ada675-3334-462a-bbe9-3e1c957f6de0"
      },
      "source": [
        "from google.colab import files\n",
        "uploaded = files.upload()"
      ],
      "execution_count": 3,
      "outputs": [
        {
          "output_type": "display_data",
          "data": {
            "text/html": [
              "\n",
              "     <input type=\"file\" id=\"files-a1605c39-13b3-4a89-ba2a-8c9db10742f0\" name=\"files[]\" multiple disabled\n",
              "        style=\"border:none\" />\n",
              "     <output id=\"result-a1605c39-13b3-4a89-ba2a-8c9db10742f0\">\n",
              "      Upload widget is only available when the cell has been executed in the\n",
              "      current browser session. Please rerun this cell to enable.\n",
              "      </output>\n",
              "      <script src=\"/nbextensions/google.colab/files.js\"></script> "
            ],
            "text/plain": [
              "<IPython.core.display.HTML object>"
            ]
          },
          "metadata": {
            "tags": []
          }
        },
        {
          "output_type": "stream",
          "text": [
            "Saving chatbot.txt.txt to chatbot.txt.txt\n"
          ],
          "name": "stdout"
        }
      ]
    },
    {
      "cell_type": "code",
      "metadata": {
        "id": "1kD-DujUSgjU",
        "colab_type": "code",
        "colab": {
          "base_uri": "https://localhost:8080/",
          "height": 90
        },
        "outputId": "9ca7c0d5-38d8-4f4e-c023-c598f96e06b4"
      },
      "source": [
        "f = open('chatbot.txt.txt', 'r', encoding='utf8', errors='ignore') \n",
        "lines = f.read()\n",
        "print(lines)"
      ],
      "execution_count": 4,
      "outputs": [
        {
          "output_type": "stream",
          "text": [
            "AWS Chatbot is an interactive agent that makes it easy to monitor and interact with your AWS resources in your Slack channels and Amazon Chime chat rooms. With AWS Chatbot you can receive alerts, run commands to return diagnostic information, invoke AWS Lambda functions, and create AWS support cases.\n",
            "\n",
            "AWS Chatbot manages the integration between AWS services and your Slack channels or Amazon Chime chat rooms helping you to get started with ChatOps fast. With just a few clicks you can start receiving notifications and issuing commands in your chosen channels or chat rooms, so your team doesn’t have to switch contexts to collaborate. AWS Chatbot makes it easier for your team to stay updated, collaborate, and respond faster to operational events, security findings, CI/CD workflows, budget, and other alerts for applications running in your AWS accounts.\n"
          ],
          "name": "stdout"
        }
      ]
    },
    {
      "cell_type": "code",
      "metadata": {
        "id": "NaJhMqJUTMGA",
        "colab_type": "code",
        "colab": {
          "base_uri": "https://localhost:8080/",
          "height": 54
        },
        "outputId": "edd9396f-b27b-452b-b9bd-c6f145b1335f"
      },
      "source": [
        "nltk_tokens = nltk.sent_tokenize(lines)\n",
        "print   (nltk_tokens)"
      ],
      "execution_count": 6,
      "outputs": [
        {
          "output_type": "stream",
          "text": [
            "['AWS Chatbot is an interactive agent that makes it easy to monitor and interact with your AWS resources in your Slack channels and Amazon Chime chat rooms.', 'With AWS Chatbot you can receive alerts, run commands to return diagnostic information, invoke AWS Lambda functions, and create AWS support cases.', 'AWS Chatbot manages the integration between AWS services and your Slack channels or Amazon Chime chat rooms helping you to get started with ChatOps fast.', 'With just a few clicks you can start receiving notifications and issuing commands in your chosen channels or chat rooms, so your team doesn’t have to switch contexts to collaborate.', 'AWS Chatbot makes it easier for your team to stay updated, collaborate, and respond faster to operational events, security findings, CI/CD workflows, budget, and other alerts for applications running in your AWS accounts.']\n"
          ],
          "name": "stdout"
        }
      ]
    },
    {
      "cell_type": "code",
      "metadata": {
        "id": "n4daVZRBT3bf",
        "colab_type": "code",
        "colab": {
          "base_uri": "https://localhost:8080/",
          "height": 70
        },
        "outputId": "671e1fda-4990-4190-bb72-a1eb2e86b3c3"
      },
      "source": [
        "nltk.download('stopwords')"
      ],
      "execution_count": 7,
      "outputs": [
        {
          "output_type": "stream",
          "text": [
            "[nltk_data] Downloading package stopwords to /root/nltk_data...\n",
            "[nltk_data]   Unzipping corpora/stopwords.zip.\n"
          ],
          "name": "stdout"
        },
        {
          "output_type": "execute_result",
          "data": {
            "text/plain": [
              "True"
            ]
          },
          "metadata": {
            "tags": []
          },
          "execution_count": 7
        }
      ]
    },
    {
      "cell_type": "code",
      "metadata": {
        "id": "KHNw0fXX4HLb",
        "colab_type": "code",
        "colab": {}
      },
      "source": [
        "nltk_tokens = nltk.word_tokenize(lines)"
      ],
      "execution_count": 51,
      "outputs": []
    },
    {
      "cell_type": "code",
      "metadata": {
        "id": "k6fkLnLAUCIs",
        "colab_type": "code",
        "colab": {}
      },
      "source": [
        "from nltk.corpus import stopwords\n",
        "stop_words=stopwords.words('english')"
      ],
      "execution_count": 8,
      "outputs": []
    },
    {
      "cell_type": "code",
      "metadata": {
        "id": "T0QR3loMUGLb",
        "colab_type": "code",
        "colab": {
          "base_uri": "https://localhost:8080/",
          "height": 1000
        },
        "outputId": "cc78945b-cc01-4b7f-f40e-71882a001167"
      },
      "source": [
        "from nltk.corpus import stopwords\n",
        "\n",
        "for word in nltk_tokens: \n",
        "    if word not in stop_words:\n",
        "        print(word)"
      ],
      "execution_count": 52,
      "outputs": [
        {
          "output_type": "stream",
          "text": [
            "AWS\n",
            "Chatbot\n",
            "interactive\n",
            "agent\n",
            "makes\n",
            "easy\n",
            "monitor\n",
            "interact\n",
            "AWS\n",
            "resources\n",
            "Slack\n",
            "channels\n",
            "Amazon\n",
            "Chime\n",
            "chat\n",
            "rooms\n",
            ".\n",
            "With\n",
            "AWS\n",
            "Chatbot\n",
            "receive\n",
            "alerts\n",
            ",\n",
            "run\n",
            "commands\n",
            "return\n",
            "diagnostic\n",
            "information\n",
            ",\n",
            "invoke\n",
            "AWS\n",
            "Lambda\n",
            "functions\n",
            ",\n",
            "create\n",
            "AWS\n",
            "support\n",
            "cases\n",
            ".\n",
            "AWS\n",
            "Chatbot\n",
            "manages\n",
            "integration\n",
            "AWS\n",
            "services\n",
            "Slack\n",
            "channels\n",
            "Amazon\n",
            "Chime\n",
            "chat\n",
            "rooms\n",
            "helping\n",
            "get\n",
            "started\n",
            "ChatOps\n",
            "fast\n",
            ".\n",
            "With\n",
            "clicks\n",
            "start\n",
            "receiving\n",
            "notifications\n",
            "issuing\n",
            "commands\n",
            "chosen\n",
            "channels\n",
            "chat\n",
            "rooms\n",
            ",\n",
            "team\n",
            "’\n",
            "switch\n",
            "contexts\n",
            "collaborate\n",
            ".\n",
            "AWS\n",
            "Chatbot\n",
            "makes\n",
            "easier\n",
            "team\n",
            "stay\n",
            "updated\n",
            ",\n",
            "collaborate\n",
            ",\n",
            "respond\n",
            "faster\n",
            "operational\n",
            "events\n",
            ",\n",
            "security\n",
            "findings\n",
            ",\n",
            "CI/CD\n",
            "workflows\n",
            ",\n",
            "budget\n",
            ",\n",
            "alerts\n",
            "applications\n",
            "running\n",
            "AWS\n",
            "accounts\n",
            ".\n"
          ],
          "name": "stdout"
        }
      ]
    },
    {
      "cell_type": "code",
      "metadata": {
        "id": "iyIUGD8IUf2z",
        "colab_type": "code",
        "colab": {
          "base_uri": "https://localhost:8080/",
          "height": 52
        },
        "outputId": "256d5782-aa8d-4553-acb5-9e298a6cdfc3"
      },
      "source": [
        "from nltk.corpus import stopwords\n",
        "c=0\n",
        "d=0\n",
        "for word in nltk_tokens: \n",
        "    if word not in stop_words:\n",
        "        c=c+1\n",
        "    else:\n",
        "      d=d+1\n",
        "print(c)\n",
        "print(d)\n"
      ],
      "execution_count": 55,
      "outputs": [
        {
          "output_type": "stream",
          "text": [
            "104\n",
            "50\n"
          ],
          "name": "stdout"
        }
      ]
    },
    {
      "cell_type": "code",
      "metadata": {
        "id": "v9qqrBU74wzP",
        "colab_type": "code",
        "colab": {
          "base_uri": "https://localhost:8080/",
          "height": 694
        },
        "outputId": "5f84400d-ac25-4b5b-e73d-2719dede64d5"
      },
      "source": [
        "from nltk.corpus import stopwords\n",
        "for word in nltk_tokens: \n",
        "    if word in stop_words:\n",
        "        nltk_tokens.remove(word)\n",
        "        print(word) #list of stop words removed\n",
        "print(nltk_tokens) # list of remaining words"
      ],
      "execution_count": 56,
      "outputs": [
        {
          "output_type": "stream",
          "text": [
            "is\n",
            "that\n",
            "it\n",
            "to\n",
            "and\n",
            "with\n",
            "in\n",
            "and\n",
            "you\n",
            "to\n",
            "and\n",
            "the\n",
            "between\n",
            "and\n",
            "or\n",
            "you\n",
            "with\n",
            "just\n",
            "few\n",
            "you\n",
            "and\n",
            "in\n",
            "or\n",
            "so\n",
            "doesn\n",
            "t\n",
            "to\n",
            "to\n",
            "it\n",
            "for\n",
            "to\n",
            "and\n",
            "to\n",
            "and\n",
            "for\n",
            "in\n",
            "['AWS', 'Chatbot', 'an', 'interactive', 'agent', 'makes', 'easy', 'monitor', 'interact', 'your', 'AWS', 'resources', 'your', 'Slack', 'channels', 'Amazon', 'Chime', 'chat', 'rooms', '.', 'With', 'AWS', 'Chatbot', 'can', 'receive', 'alerts', ',', 'run', 'commands', 'return', 'diagnostic', 'information', ',', 'invoke', 'AWS', 'Lambda', 'functions', ',', 'create', 'AWS', 'support', 'cases', '.', 'AWS', 'Chatbot', 'manages', 'integration', 'AWS', 'services', 'your', 'Slack', 'channels', 'Amazon', 'Chime', 'chat', 'rooms', 'helping', 'get', 'started', 'ChatOps', 'fast', '.', 'With', 'a', 'clicks', 'can', 'start', 'receiving', 'notifications', 'issuing', 'commands', 'your', 'chosen', 'channels', 'chat', 'rooms', ',', 'your', 'team', '’', 'have', 'switch', 'contexts', 'collaborate', '.', 'AWS', 'Chatbot', 'makes', 'easier', 'your', 'team', 'stay', 'updated', ',', 'collaborate', ',', 'respond', 'faster', 'to', 'operational', 'events', ',', 'security', 'findings', ',', 'CI/CD', 'workflows', ',', 'budget', ',', 'other', 'alerts', 'applications', 'running', 'your', 'AWS', 'accounts', '.']\n"
          ],
          "name": "stdout"
        }
      ]
    },
    {
      "cell_type": "code",
      "metadata": {
        "id": "wqjNdZygsWw2",
        "colab_type": "code",
        "colab": {}
      },
      "source": [
        "new_words = ['Good Morning!','Good Afternoon!', 'Hello', 'Cat', 'House', 'Car', 'Rain', 'Child', 'Nation', 'Cow', 'Flower']"
      ],
      "execution_count": 44,
      "outputs": []
    },
    {
      "cell_type": "code",
      "metadata": {
        "id": "MuFGujACpw0s",
        "colab_type": "code",
        "colab": {
          "base_uri": "https://localhost:8080/",
          "height": 212
        },
        "outputId": "2fdd5246-311f-40e8-f3e3-a12fca02fdaa"
      },
      "source": [
        "from translate import Translator\n",
        "translator= Translator(to_lang=\"Malayalam\")\n",
        "for word in new_words:\n",
        "  translation = translator.translate(word)\n",
        "  print(word+' : '+translation)\n",
        "  \n",
        "\n"
      ],
      "execution_count": 68,
      "outputs": [
        {
          "output_type": "stream",
          "text": [
            "Good Morning! : സുപ്രഭാതം\n",
            "Good Afternoon! : ഗുഡ് ആഫ്റ്റർനൂൺ!\n",
            "Hello : ഹലോ\n",
            "Cat : പൂച്ച\n",
            "House : വീട്\n",
            "Car : കാർ\n",
            "Rain : മഴ\n",
            "Child : കുട്ടി\n",
            "Nation : രാജ്യം\n",
            "Cow : പശു\n",
            "Flower : പുഷ്പം\n"
          ],
          "name": "stdout"
        }
      ]
    },
    {
      "cell_type": "code",
      "metadata": {
        "id": "YWK016UF2Q99",
        "colab_type": "code",
        "colab": {
          "base_uri": "https://localhost:8080/",
          "height": 105
        },
        "outputId": "1c412ccd-04fe-4f3b-921f-acc10a319895"
      },
      "source": [
        "pip install pyspellchecker "
      ],
      "execution_count": 47,
      "outputs": [
        {
          "output_type": "stream",
          "text": [
            "Collecting pyspellchecker\n",
            "\u001b[?25l  Downloading https://files.pythonhosted.org/packages/f1/96/827c132397d0eb5731c1eda05dbfb019ede064ca8c7d0f329160ce0a4acd/pyspellchecker-0.5.5-py2.py3-none-any.whl (1.9MB)\n",
            "\r\u001b[K     |▏                               | 10kB 24.4MB/s eta 0:00:01\r\u001b[K     |▍                               | 20kB 6.2MB/s eta 0:00:01\r\u001b[K     |▌                               | 30kB 7.0MB/s eta 0:00:01\r\u001b[K     |▊                               | 40kB 7.8MB/s eta 0:00:01\r\u001b[K     |▉                               | 51kB 6.4MB/s eta 0:00:01\r\u001b[K     |█                               | 61kB 7.1MB/s eta 0:00:01\r\u001b[K     |█▏                              | 71kB 7.4MB/s eta 0:00:01\r\u001b[K     |█▍                              | 81kB 7.9MB/s eta 0:00:01\r\u001b[K     |█▌                              | 92kB 7.6MB/s eta 0:00:01\r\u001b[K     |█▊                              | 102kB 7.8MB/s eta 0:00:01\r\u001b[K     |█▉                              | 112kB 7.8MB/s eta 0:00:01\r\u001b[K     |██                              | 122kB 7.8MB/s eta 0:00:01\r\u001b[K     |██▎                             | 133kB 7.8MB/s eta 0:00:01\r\u001b[K     |██▍                             | 143kB 7.8MB/s eta 0:00:01\r\u001b[K     |██▋                             | 153kB 7.8MB/s eta 0:00:01\r\u001b[K     |██▊                             | 163kB 7.8MB/s eta 0:00:01\r\u001b[K     |███                             | 174kB 7.8MB/s eta 0:00:01\r\u001b[K     |███                             | 184kB 7.8MB/s eta 0:00:01\r\u001b[K     |███▎                            | 194kB 7.8MB/s eta 0:00:01\r\u001b[K     |███▍                            | 204kB 7.8MB/s eta 0:00:01\r\u001b[K     |███▋                            | 215kB 7.8MB/s eta 0:00:01\r\u001b[K     |███▊                            | 225kB 7.8MB/s eta 0:00:01\r\u001b[K     |████                            | 235kB 7.8MB/s eta 0:00:01\r\u001b[K     |████▏                           | 245kB 7.8MB/s eta 0:00:01\r\u001b[K     |████▎                           | 256kB 7.8MB/s eta 0:00:01\r\u001b[K     |████▌                           | 266kB 7.8MB/s eta 0:00:01\r\u001b[K     |████▋                           | 276kB 7.8MB/s eta 0:00:01\r\u001b[K     |████▉                           | 286kB 7.8MB/s eta 0:00:01\r\u001b[K     |█████                           | 296kB 7.8MB/s eta 0:00:01\r\u001b[K     |█████▏                          | 307kB 7.8MB/s eta 0:00:01\r\u001b[K     |█████▎                          | 317kB 7.8MB/s eta 0:00:01\r\u001b[K     |█████▌                          | 327kB 7.8MB/s eta 0:00:01\r\u001b[K     |█████▋                          | 337kB 7.8MB/s eta 0:00:01\r\u001b[K     |█████▉                          | 348kB 7.8MB/s eta 0:00:01\r\u001b[K     |██████                          | 358kB 7.8MB/s eta 0:00:01\r\u001b[K     |██████▏                         | 368kB 7.8MB/s eta 0:00:01\r\u001b[K     |██████▍                         | 378kB 7.8MB/s eta 0:00:01\r\u001b[K     |██████▌                         | 389kB 7.8MB/s eta 0:00:01\r\u001b[K     |██████▊                         | 399kB 7.8MB/s eta 0:00:01\r\u001b[K     |██████▉                         | 409kB 7.8MB/s eta 0:00:01\r\u001b[K     |███████                         | 419kB 7.8MB/s eta 0:00:01\r\u001b[K     |███████▏                        | 430kB 7.8MB/s eta 0:00:01\r\u001b[K     |███████▍                        | 440kB 7.8MB/s eta 0:00:01\r\u001b[K     |███████▌                        | 450kB 7.8MB/s eta 0:00:01\r\u001b[K     |███████▊                        | 460kB 7.8MB/s eta 0:00:01\r\u001b[K     |████████                        | 471kB 7.8MB/s eta 0:00:01\r\u001b[K     |████████                        | 481kB 7.8MB/s eta 0:00:01\r\u001b[K     |████████▎                       | 491kB 7.8MB/s eta 0:00:01\r\u001b[K     |████████▍                       | 501kB 7.8MB/s eta 0:00:01\r\u001b[K     |████████▋                       | 512kB 7.8MB/s eta 0:00:01\r\u001b[K     |████████▊                       | 522kB 7.8MB/s eta 0:00:01\r\u001b[K     |█████████                       | 532kB 7.8MB/s eta 0:00:01\r\u001b[K     |█████████                       | 542kB 7.8MB/s eta 0:00:01\r\u001b[K     |█████████▎                      | 552kB 7.8MB/s eta 0:00:01\r\u001b[K     |█████████▍                      | 563kB 7.8MB/s eta 0:00:01\r\u001b[K     |█████████▋                      | 573kB 7.8MB/s eta 0:00:01\r\u001b[K     |█████████▉                      | 583kB 7.8MB/s eta 0:00:01\r\u001b[K     |██████████                      | 593kB 7.8MB/s eta 0:00:01\r\u001b[K     |██████████▏                     | 604kB 7.8MB/s eta 0:00:01\r\u001b[K     |██████████▎                     | 614kB 7.8MB/s eta 0:00:01\r\u001b[K     |██████████▌                     | 624kB 7.8MB/s eta 0:00:01\r\u001b[K     |██████████▋                     | 634kB 7.8MB/s eta 0:00:01\r\u001b[K     |██████████▉                     | 645kB 7.8MB/s eta 0:00:01\r\u001b[K     |███████████                     | 655kB 7.8MB/s eta 0:00:01\r\u001b[K     |███████████▏                    | 665kB 7.8MB/s eta 0:00:01\r\u001b[K     |███████████▎                    | 675kB 7.8MB/s eta 0:00:01\r\u001b[K     |███████████▌                    | 686kB 7.8MB/s eta 0:00:01\r\u001b[K     |███████████▊                    | 696kB 7.8MB/s eta 0:00:01\r\u001b[K     |███████████▉                    | 706kB 7.8MB/s eta 0:00:01\r\u001b[K     |████████████                    | 716kB 7.8MB/s eta 0:00:01\r\u001b[K     |████████████▏                   | 727kB 7.8MB/s eta 0:00:01\r\u001b[K     |████████████▍                   | 737kB 7.8MB/s eta 0:00:01\r\u001b[K     |████████████▌                   | 747kB 7.8MB/s eta 0:00:01\r\u001b[K     |████████████▊                   | 757kB 7.8MB/s eta 0:00:01\r\u001b[K     |████████████▉                   | 768kB 7.8MB/s eta 0:00:01\r\u001b[K     |█████████████                   | 778kB 7.8MB/s eta 0:00:01\r\u001b[K     |█████████████▏                  | 788kB 7.8MB/s eta 0:00:01\r\u001b[K     |█████████████▍                  | 798kB 7.8MB/s eta 0:00:01\r\u001b[K     |█████████████▋                  | 808kB 7.8MB/s eta 0:00:01\r\u001b[K     |█████████████▊                  | 819kB 7.8MB/s eta 0:00:01\r\u001b[K     |██████████████                  | 829kB 7.8MB/s eta 0:00:01\r\u001b[K     |██████████████                  | 839kB 7.8MB/s eta 0:00:01\r\u001b[K     |██████████████▎                 | 849kB 7.8MB/s eta 0:00:01\r\u001b[K     |██████████████▍                 | 860kB 7.8MB/s eta 0:00:01\r\u001b[K     |██████████████▋                 | 870kB 7.8MB/s eta 0:00:01\r\u001b[K     |██████████████▊                 | 880kB 7.8MB/s eta 0:00:01\r\u001b[K     |███████████████                 | 890kB 7.8MB/s eta 0:00:01\r\u001b[K     |███████████████                 | 901kB 7.8MB/s eta 0:00:01\r\u001b[K     |███████████████▎                | 911kB 7.8MB/s eta 0:00:01\r\u001b[K     |███████████████▌                | 921kB 7.8MB/s eta 0:00:01\r\u001b[K     |███████████████▋                | 931kB 7.8MB/s eta 0:00:01\r\u001b[K     |███████████████▉                | 942kB 7.8MB/s eta 0:00:01\r\u001b[K     |████████████████                | 952kB 7.8MB/s eta 0:00:01\r\u001b[K     |████████████████▏               | 962kB 7.8MB/s eta 0:00:01\r\u001b[K     |████████████████▎               | 972kB 7.8MB/s eta 0:00:01\r\u001b[K     |████████████████▌               | 983kB 7.8MB/s eta 0:00:01\r\u001b[K     |████████████████▋               | 993kB 7.8MB/s eta 0:00:01\r\u001b[K     |████████████████▉               | 1.0MB 7.8MB/s eta 0:00:01\r\u001b[K     |█████████████████               | 1.0MB 7.8MB/s eta 0:00:01\r\u001b[K     |█████████████████▏              | 1.0MB 7.8MB/s eta 0:00:01\r\u001b[K     |█████████████████▍              | 1.0MB 7.8MB/s eta 0:00:01\r\u001b[K     |█████████████████▌              | 1.0MB 7.8MB/s eta 0:00:01\r\u001b[K     |█████████████████▊              | 1.1MB 7.8MB/s eta 0:00:01\r\u001b[K     |█████████████████▉              | 1.1MB 7.8MB/s eta 0:00:01\r\u001b[K     |██████████████████              | 1.1MB 7.8MB/s eta 0:00:01\r\u001b[K     |██████████████████▏             | 1.1MB 7.8MB/s eta 0:00:01\r\u001b[K     |██████████████████▍             | 1.1MB 7.8MB/s eta 0:00:01\r\u001b[K     |██████████████████▌             | 1.1MB 7.8MB/s eta 0:00:01\r\u001b[K     |██████████████████▊             | 1.1MB 7.8MB/s eta 0:00:01\r\u001b[K     |██████████████████▉             | 1.1MB 7.8MB/s eta 0:00:01\r\u001b[K     |███████████████████             | 1.1MB 7.8MB/s eta 0:00:01\r\u001b[K     |███████████████████▎            | 1.1MB 7.8MB/s eta 0:00:01\r\u001b[K     |███████████████████▍            | 1.2MB 7.8MB/s eta 0:00:01\r\u001b[K     |███████████████████▋            | 1.2MB 7.8MB/s eta 0:00:01\r\u001b[K     |███████████████████▊            | 1.2MB 7.8MB/s eta 0:00:01\r\u001b[K     |████████████████████            | 1.2MB 7.8MB/s eta 0:00:01\r\u001b[K     |████████████████████            | 1.2MB 7.8MB/s eta 0:00:01\r\u001b[K     |████████████████████▎           | 1.2MB 7.8MB/s eta 0:00:01\r\u001b[K     |████████████████████▍           | 1.2MB 7.8MB/s eta 0:00:01\r\u001b[K     |████████████████████▋           | 1.2MB 7.8MB/s eta 0:00:01\r\u001b[K     |████████████████████▊           | 1.2MB 7.8MB/s eta 0:00:01\r\u001b[K     |█████████████████████           | 1.2MB 7.8MB/s eta 0:00:01\r\u001b[K     |█████████████████████▏          | 1.3MB 7.8MB/s eta 0:00:01\r\u001b[K     |█████████████████████▎          | 1.3MB 7.8MB/s eta 0:00:01\r\u001b[K     |█████████████████████▌          | 1.3MB 7.8MB/s eta 0:00:01\r\u001b[K     |█████████████████████▋          | 1.3MB 7.8MB/s eta 0:00:01\r\u001b[K     |█████████████████████▉          | 1.3MB 7.8MB/s eta 0:00:01\r\u001b[K     |██████████████████████          | 1.3MB 7.8MB/s eta 0:00:01\r\u001b[K     |██████████████████████▏         | 1.3MB 7.8MB/s eta 0:00:01\r\u001b[K     |██████████████████████▎         | 1.3MB 7.8MB/s eta 0:00:01\r\u001b[K     |██████████████████████▌         | 1.3MB 7.8MB/s eta 0:00:01\r\u001b[K     |██████████████████████▋         | 1.4MB 7.8MB/s eta 0:00:01\r\u001b[K     |██████████████████████▉         | 1.4MB 7.8MB/s eta 0:00:01\r\u001b[K     |███████████████████████         | 1.4MB 7.8MB/s eta 0:00:01\r\u001b[K     |███████████████████████▏        | 1.4MB 7.8MB/s eta 0:00:01\r\u001b[K     |███████████████████████▍        | 1.4MB 7.8MB/s eta 0:00:01\r\u001b[K     |███████████████████████▌        | 1.4MB 7.8MB/s eta 0:00:01\r\u001b[K     |███████████████████████▊        | 1.4MB 7.8MB/s eta 0:00:01\r\u001b[K     |███████████████████████▉        | 1.4MB 7.8MB/s eta 0:00:01\r\u001b[K     |████████████████████████        | 1.4MB 7.8MB/s eta 0:00:01\r\u001b[K     |████████████████████████▏       | 1.4MB 7.8MB/s eta 0:00:01\r\u001b[K     |████████████████████████▍       | 1.5MB 7.8MB/s eta 0:00:01\r\u001b[K     |████████████████████████▌       | 1.5MB 7.8MB/s eta 0:00:01\r\u001b[K     |████████████████████████▊       | 1.5MB 7.8MB/s eta 0:00:01\r\u001b[K     |█████████████████████████       | 1.5MB 7.8MB/s eta 0:00:01\r\u001b[K     |█████████████████████████       | 1.5MB 7.8MB/s eta 0:00:01\r\u001b[K     |█████████████████████████▎      | 1.5MB 7.8MB/s eta 0:00:01\r\u001b[K     |█████████████████████████▍      | 1.5MB 7.8MB/s eta 0:00:01\r\u001b[K     |█████████████████████████▋      | 1.5MB 7.8MB/s eta 0:00:01\r\u001b[K     |█████████████████████████▊      | 1.5MB 7.8MB/s eta 0:00:01\r\u001b[K     |██████████████████████████      | 1.5MB 7.8MB/s eta 0:00:01\r\u001b[K     |██████████████████████████      | 1.6MB 7.8MB/s eta 0:00:01\r\u001b[K     |██████████████████████████▎     | 1.6MB 7.8MB/s eta 0:00:01\r\u001b[K     |██████████████████████████▍     | 1.6MB 7.8MB/s eta 0:00:01\r\u001b[K     |██████████████████████████▋     | 1.6MB 7.8MB/s eta 0:00:01\r\u001b[K     |██████████████████████████▉     | 1.6MB 7.8MB/s eta 0:00:01\r\u001b[K     |███████████████████████████     | 1.6MB 7.8MB/s eta 0:00:01\r\u001b[K     |███████████████████████████▏    | 1.6MB 7.8MB/s eta 0:00:01\r\u001b[K     |███████████████████████████▎    | 1.6MB 7.8MB/s eta 0:00:01\r\u001b[K     |███████████████████████████▌    | 1.6MB 7.8MB/s eta 0:00:01\r\u001b[K     |███████████████████████████▋    | 1.6MB 7.8MB/s eta 0:00:01\r\u001b[K     |███████████████████████████▉    | 1.7MB 7.8MB/s eta 0:00:01\r\u001b[K     |████████████████████████████    | 1.7MB 7.8MB/s eta 0:00:01\r\u001b[K     |████████████████████████████▏   | 1.7MB 7.8MB/s eta 0:00:01\r\u001b[K     |████████████████████████████▎   | 1.7MB 7.8MB/s eta 0:00:01\r\u001b[K     |████████████████████████████▌   | 1.7MB 7.8MB/s eta 0:00:01\r\u001b[K     |████████████████████████████▊   | 1.7MB 7.8MB/s eta 0:00:01\r\u001b[K     |████████████████████████████▉   | 1.7MB 7.8MB/s eta 0:00:01\r\u001b[K     |█████████████████████████████   | 1.7MB 7.8MB/s eta 0:00:01\r\u001b[K     |█████████████████████████████▏  | 1.7MB 7.8MB/s eta 0:00:01\r\u001b[K     |█████████████████████████████▍  | 1.8MB 7.8MB/s eta 0:00:01\r\u001b[K     |█████████████████████████████▌  | 1.8MB 7.8MB/s eta 0:00:01\r\u001b[K     |█████████████████████████████▊  | 1.8MB 7.8MB/s eta 0:00:01\r\u001b[K     |█████████████████████████████▉  | 1.8MB 7.8MB/s eta 0:00:01\r\u001b[K     |██████████████████████████████  | 1.8MB 7.8MB/s eta 0:00:01\r\u001b[K     |██████████████████████████████▏ | 1.8MB 7.8MB/s eta 0:00:01\r\u001b[K     |██████████████████████████████▍ | 1.8MB 7.8MB/s eta 0:00:01\r\u001b[K     |██████████████████████████████▋ | 1.8MB 7.8MB/s eta 0:00:01\r\u001b[K     |██████████████████████████████▊ | 1.8MB 7.8MB/s eta 0:00:01\r\u001b[K     |███████████████████████████████ | 1.8MB 7.8MB/s eta 0:00:01\r\u001b[K     |███████████████████████████████ | 1.9MB 7.8MB/s eta 0:00:01\r\u001b[K     |███████████████████████████████▎| 1.9MB 7.8MB/s eta 0:00:01\r\u001b[K     |███████████████████████████████▍| 1.9MB 7.8MB/s eta 0:00:01\r\u001b[K     |███████████████████████████████▋| 1.9MB 7.8MB/s eta 0:00:01\r\u001b[K     |███████████████████████████████▊| 1.9MB 7.8MB/s eta 0:00:01\r\u001b[K     |████████████████████████████████| 1.9MB 7.8MB/s eta 0:00:01\r\u001b[K     |████████████████████████████████| 1.9MB 7.8MB/s \n",
            "\u001b[?25hInstalling collected packages: pyspellchecker\n",
            "Successfully installed pyspellchecker-0.5.5\n"
          ],
          "name": "stdout"
        }
      ]
    },
    {
      "cell_type": "code",
      "metadata": {
        "id": "84MdwRiyqg73",
        "colab_type": "code",
        "colab": {
          "base_uri": "https://localhost:8080/",
          "height": 267
        },
        "outputId": "b1cc756a-1980-47c7-fdb6-9b10bf730128"
      },
      "source": [
        "from spellchecker import SpellChecker\n",
        "spell = SpellChecker()\n",
        "ms=0\n",
        "misspelled = spell.unknown(nltk_tokens)\n",
        "\n",
        "for word in misspelled:\n",
        "    # Get the one `most likely` answer\n",
        "    print(word+\" - \"+spell.correction(word))\n",
        "    ms=ms+1\n",
        "\n",
        "    # Get a list of `likely` options\n",
        "    print(spell.candidates(word))\n",
        "\n",
        "print(ms)"
      ],
      "execution_count": 59,
      "outputs": [
        {
          "output_type": "stream",
          "text": [
            "chatbot - chariot\n",
            "{'chaebol', 'cabot', 'chariot', 'chatto', 'whatnot'}\n",
            "workflows - workflow\n",
            "{'workflow'}\n",
            "ci/cd - cited\n",
            "{'cisc', 'i/c', 'ciscs', 'cicr', 'cica', 'cisco', 'cited', 'cid', 'circe', 'ccd', 'circa', 'cinch', 'cics', 'civc', 'icd', 'c/d', 'cf/cf', 'cic', 'cx/cx'}\n",
            "aws - was\n",
            "{'aus', 'awi', 'aes', 'awsd', 'aas', 'ws', 'was', 'awa', 'ais', 'asw', 'ass', 'awn', 'paws', 'awl', 'aw', 'aww', 'laws', 'ats', 'aps', 'abs', 'pws', 'ans', 'cws', 'awe', 'ams', 'a.s', 'maws', 'jaws', 'a/s', 'acs', 'saws', 'als', 'kws', 'ahs', 'yaws', 'asws', 'as', \"a's\", 'ads', 'aos', 'ars', 'afs', 'awb', 'avs', 'daws', 'haws'}\n",
            "’ - a\n",
            "{'e', 's', 'l', 'h', 'z', 'k', 't', 'q', 'f', 'j', 'd', 'g', 'a', 'y', 'x', 'u', 'b', 'w', 'r', 'm', 'c', 'p', 'o', 'v', 'i', 'n'}\n",
            "chatops - chaos\n",
            "{'champs', 'chats', 'cheops', 'chamois', 'chaps', 'chaos', 'chops'}\n",
            "6\n"
          ],
          "name": "stdout"
        }
      ]
    },
    {
      "cell_type": "code",
      "metadata": {
        "id": "1EjfKFGJ2I5i",
        "colab_type": "code",
        "colab": {
          "base_uri": "https://localhost:8080/",
          "height": 161
        },
        "outputId": "0af20ee0-32d8-44f3-8d77-6f2a78a7527a"
      },
      "source": [
        "for word in misspelled:\n",
        "    print(word+\" - \"+spell.correction(word))\n",
        "    for lw in nltk_tokens:\n",
        "      if lw.lower() == word:\n",
        "        nltk_tokens.remove(lw)    \n",
        "print(nltk_tokens)\n"
      ],
      "execution_count": 65,
      "outputs": [
        {
          "output_type": "stream",
          "text": [
            "chatbot - chariot\n",
            "workflows - workflow\n",
            "ci/cd - cited\n",
            "aws - was\n",
            "’ - a\n",
            "chatops - chaos\n",
            "['an', 'interactive', 'agent', 'makes', 'easy', 'monitor', 'interact', 'your', 'resources', 'your', 'Slack', 'channels', 'Amazon', 'Chime', 'chat', 'rooms', '.', 'With', 'can', 'receive', 'alerts', ',', 'run', 'commands', 'return', 'diagnostic', 'information', ',', 'invoke', 'Lambda', 'functions', ',', 'create', 'support', 'cases', '.', 'manages', 'integration', 'services', 'your', 'Slack', 'channels', 'Amazon', 'Chime', 'chat', 'rooms', 'helping', 'get', 'started', 'fast', '.', 'With', 'a', 'clicks', 'can', 'start', 'receiving', 'notifications', 'issuing', 'commands', 'your', 'chosen', 'channels', 'chat', 'rooms', ',', 'your', 'team', 'have', 'switch', 'contexts', 'collaborate', '.', 'makes', 'easier', 'your', 'team', 'stay', 'updated', ',', 'collaborate', ',', 'respond', 'faster', 'to', 'operational', 'events', ',', 'security', 'findings', ',', ',', 'budget', ',', 'other', 'alerts', 'applications', 'running', 'your', 'accounts', '.']\n"
          ],
          "name": "stdout"
        }
      ]
    },
    {
      "cell_type": "code",
      "metadata": {
        "id": "guq71dHz6Vvv",
        "colab_type": "code",
        "colab": {
          "base_uri": "https://localhost:8080/",
          "height": 34
        },
        "outputId": "0f52a1c8-45af-49a9-c609-7806ad624569"
      },
      "source": [
        "total_words=0\n",
        "for word in nltk_tokens:\n",
        "    total_words+=1;\n",
        "print(total_words)\n"
      ],
      "execution_count": 67,
      "outputs": [
        {
          "output_type": "stream",
          "text": [
            "101\n"
          ],
          "name": "stdout"
        }
      ]
    },
    {
      "cell_type": "code",
      "metadata": {
        "id": "dUEd_ZsY9npB",
        "colab_type": "code",
        "colab": {}
      },
      "source": [
        ""
      ],
      "execution_count": null,
      "outputs": []
    }
  ]
}